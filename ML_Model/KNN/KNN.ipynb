{
 "cells": [
  {
   "cell_type": "code",
   "execution_count": 1,
   "metadata": {
    "colab": {},
    "colab_type": "code",
    "id": "NPd7ZJ-PN7gX"
   },
   "outputs": [],
   "source": [
    "from sklearn.model_selection import train_test_split\n",
    "from sklearn.metrics import accuracy_score, precision_score, recall_score, f1_score\n",
    "from sklearn.neighbors import KNeighborsClassifier\n",
    "from sklearn.metrics import confusion_matrix\n",
    "from sklearn.model_selection import GridSearchCV\n",
    "from sklearn.metrics import classification_report\n",
    "from sklearn.preprocessing import StandardScaler\n",
    "import pandas as pd \n",
    "import numpy as np\n",
    "import matplotlib.pyplot as plt"
   ]
  },
  {
   "cell_type": "code",
   "execution_count": 2,
   "metadata": {
    "colab": {},
    "colab_type": "code",
    "id": "GJ2thNhnryzf"
   },
   "outputs": [],
   "source": [
    "filepath = \"KaggleImbalanced.csv\"\n",
    "df = pd.read_csv(filepath)"
   ]
  },
  {
   "cell_type": "code",
   "execution_count": 3,
   "metadata": {
    "colab": {},
    "colab_type": "code",
    "id": "M_UWPW-XrzFw"
   },
   "outputs": [],
   "source": [
    "feats = [x for x in df.columns if x != 'ProtocolName']\n",
    "X = df[feats]\n",
    "Y = df['ProtocolName']"
   ]
  },
  {
   "cell_type": "code",
   "execution_count": 4,
   "metadata": {
    "colab": {},
    "colab_type": "code",
    "id": "xsaH1_7jsOgq"
   },
   "outputs": [],
   "source": [
    "scaler = StandardScaler()\n",
    "X = scaler.fit_transform(X)"
   ]
  },
  {
   "cell_type": "code",
   "execution_count": 5,
   "metadata": {
    "colab": {},
    "colab_type": "code",
    "id": "NY3532jvrzKV"
   },
   "outputs": [],
   "source": [
    "X_train, X_test, y_train, y_test = train_test_split(X, Y, test_size = 0.3, random_state = 42)"
   ]
  },
  {
   "cell_type": "code",
   "execution_count": 6,
   "metadata": {
    "colab": {},
    "colab_type": "code",
    "id": "eneD5d5mrzDT"
   },
   "outputs": [],
   "source": [
    "params = { 'n_neighbors': [3, 5, 7, 11, 21],\n",
    "    'weights': ['uniform', 'distance'],\n",
    "    'metric': ['euclidean', 'manhattan'] }\n",
    "gs = GridSearchCV(KNeighborsClassifier(), params, cv = 10, n_jobs = -1)"
   ]
  },
  {
   "cell_type": "code",
   "execution_count": 12,
   "metadata": {},
   "outputs": [],
   "source": [
    "%%time\n",
    "gs.fit(X_train, y_train)"
   ]
  },
  {
   "cell_type": "code",
   "execution_count": 13,
   "metadata": {},
   "outputs": [],
   "source": [
    "%%time\n",
    "gs.best_score_"
   ]
  },
  {
   "cell_type": "code",
   "execution_count": 14,
   "metadata": {},
   "outputs": [],
   "source": [
    "%%time\n",
    "gs.best_params_"
   ]
  },
  {
   "cell_type": "code",
   "execution_count": 6,
   "metadata": {
    "colab": {},
    "colab_type": "code",
    "id": "gbtmE3T8rzAd"
   },
   "outputs": [],
   "source": [
    "neigh = KNeighborsClassifier(n_neighbors = 3, metric='manhattan', weights='distance')"
   ]
  },
  {
   "cell_type": "code",
   "execution_count": 7,
   "metadata": {
    "colab": {},
    "colab_type": "code",
    "id": "EGoAmILxry9t"
   },
   "outputs": [
    {
     "name": "stdout",
     "output_type": "stream",
     "text": [
      "Wall time: 1min 14s\n"
     ]
    },
    {
     "data": {
      "text/plain": [
       "KNeighborsClassifier(metric='manhattan', n_neighbors=3, weights='distance')"
      ]
     },
     "execution_count": 7,
     "metadata": {},
     "output_type": "execute_result"
    }
   ],
   "source": [
    "%%time\n",
    "neigh.fit(X_train, y_train)"
   ]
  },
  {
   "cell_type": "code",
   "execution_count": 8,
   "metadata": {
    "colab": {},
    "colab_type": "code",
    "id": "dbwhYuAEry7n"
   },
   "outputs": [
    {
     "name": "stdout",
     "output_type": "stream",
     "text": [
      "Wall time: 7min 20s\n"
     ]
    },
    {
     "data": {
      "text/plain": [
       "0.9561002290905344"
      ]
     },
     "execution_count": 8,
     "metadata": {},
     "output_type": "execute_result"
    }
   ],
   "source": [
    "%%time\n",
    "neigh.score(X_test, y_test)"
   ]
  },
  {
   "cell_type": "code",
   "execution_count": 10,
   "metadata": {
    "colab": {},
    "colab_type": "code",
    "id": "LgO1mR44ry52"
   },
   "outputs": [
    {
     "name": "stdout",
     "output_type": "stream",
     "text": [
      "Wall time: 7min 26s\n"
     ]
    },
    {
     "data": {
      "text/plain": [
       "array(['AMAZON', 'NETFLIX', 'WHATSAPP', ..., 'HTTP_DOWNLOAD', 'FACEBOOK',\n",
       "       'DROPBOX'], dtype=object)"
      ]
     },
     "execution_count": 10,
     "metadata": {},
     "output_type": "execute_result"
    }
   ],
   "source": [
    "%%time\n",
    "y_pred = neigh.predict(X_test)\n",
    "y_pred"
   ]
  },
  {
   "cell_type": "code",
   "execution_count": 12,
   "metadata": {},
   "outputs": [],
   "source": [
    "import time"
   ]
  },
  {
   "cell_type": "code",
   "execution_count": 18,
   "metadata": {},
   "outputs": [],
   "source": [
    "class_list = df['ProtocolName'].unique()"
   ]
  },
  {
   "cell_type": "code",
   "execution_count": 19,
   "metadata": {},
   "outputs": [],
   "source": [
    "model_output = {}\n",
    "for label in class_list:\n",
    "    model_output.setdefault(label, [])\n",
    "    myDataFrame = df[df['ProtocolName']==label]\n",
    "    samples = len(myDataFrame)\n",
    "    myFeats = [x for x in myDataFrame.columns if x != 'ProtocolName']\n",
    "    X_features = myDataFrame[myFeats]\n",
    "    X_features = scaler.fit_transform(X_features)\n",
    "    myLabel = myDataFrame['ProtocolName']\n",
    "    tic = time.time()\n",
    "#     my_predict = np.argmax(model.predict(X_features), axis=-1)\n",
    "    predicted_class = neigh.predict(X_features)\n",
    "    toc = time.time()\n",
    "#     confidence_score = np.max(neigh.predict(X_features))\n",
    "#     predicted_class = encoder.inverse_transform(my_predict)\n",
    "    time_taken = toc-tic\n",
    "    my_acc = accuracy_score(myDataFrame['ProtocolName'], predicted_class) \n",
    "    model_output[label].append(predicted_class)\n",
    "    model_output[label].append(time_taken)\n",
    "    model_output[label].append(samples)\n",
    "    model_output[label].append(my_acc)\n",
    "#     model_output[label].append(confidence_score)\n",
    "    "
   ]
  },
  {
   "cell_type": "code",
   "execution_count": 22,
   "metadata": {},
   "outputs": [],
   "source": [
    "with  open(\"Evaluation2.txt\", 'w+') as f:\n",
    "    for label in model_output.keys():\n",
    "        f.write(label +\"\\t\" + str(round(model_output[label][1], 2)) + \"\\t\" + str(model_output[label][2]) + \"\\t\" + str(round(model_output[label][3]*100, 2)) + \"\\n\")\n",
    "f.close()"
   ]
  },
  {
   "cell_type": "code",
   "execution_count": 23,
   "metadata": {},
   "outputs": [
    {
     "name": "stdout",
     "output_type": "stream",
     "text": [
      "[array(['APPLE', 'NETFLIX', 'GOOGLE_MAPS', ..., 'WIKIPEDIA',\n",
      "       'APPLE_ICLOUD', 'GOOGLE_MAPS'], dtype=object), 159.41592741012573, 10000, 0.1845]\n"
     ]
    }
   ],
   "source": [
    "print(model_output['GOOGLE_MAPS'])"
   ]
  },
  {
   "cell_type": "code",
   "execution_count": 24,
   "metadata": {},
   "outputs": [],
   "source": [
    "for label in model_output.keys():\n",
    "    myDataFrame = df[df['ProtocolName']==label]\n",
    "    myFeats = [x for x in myDataFrame.columns if x != 'ProtocolName']\n",
    "    X_features = myDataFrame[myFeats]\n",
    "    X_features = scaler.fit_transform(X_features)\n",
    "    myLabel = myDataFrame['ProtocolName']\n",
    "#     confidence_score = np.max(neigh.predict(X_features))\n",
    "    score = neigh.score(X_features, myLabel)\n",
    "#     my_acc = accuracy_score(myDataFrame['ProtocolName'], predicted_class) \n",
    "    model_output[label].append(score)"
   ]
  },
  {
   "cell_type": "code",
   "execution_count": 25,
   "metadata": {},
   "outputs": [
    {
     "name": "stdout",
     "output_type": "stream",
     "text": [
      "[array(['APPLE', 'NETFLIX', 'GOOGLE_MAPS', ..., 'WIKIPEDIA',\n",
      "       'APPLE_ICLOUD', 'GOOGLE_MAPS'], dtype=object), 159.41592741012573, 10000, 0.1845, 0.1845]\n"
     ]
    }
   ],
   "source": [
    "print(model_output['GOOGLE_MAPS'])"
   ]
  },
  {
   "cell_type": "code",
   "execution_count": 28,
   "metadata": {
    "colab": {},
    "colab_type": "code",
    "id": "00NkgA84ry2m"
   },
   "outputs": [],
   "source": [
    "# print(classification_report(y_test, y_pred))\n"
   ]
  },
  {
   "cell_type": "code",
   "execution_count": 23,
   "metadata": {
    "colab": {},
    "colab_type": "code",
    "id": "Hubdgz8psbQc"
   },
   "outputs": [
    {
     "name": "stdout",
     "output_type": "stream",
     "text": [
      "[[2931    0    0 ...    1    0    0]\n",
      " [   0 2567   90 ...    3    0    1]\n",
      " [   0   22 2835 ...    2    0    0]\n",
      " ...\n",
      " [   0    7    6 ... 3015    0    0]\n",
      " [   0    3    3 ...    0 2736    0]\n",
      " [   0    1    0 ...    0    0 2881]]\n"
     ]
    }
   ],
   "source": [
    "print(confusion_matrix(y_test, y_pred))"
   ]
  },
  {
   "cell_type": "code",
   "execution_count": 27,
   "metadata": {},
   "outputs": [],
   "source": [
    "#These are features extracted from RandomForest classifier\n",
    "important_features = ['Flow.Duration', 'Total.Length.of.Fwd.Packets', 'Fwd.Packet.Length.Max',\n",
    "       'Fwd.Packet.Length.Min', 'Fwd.Packet.Length.Mean',\n",
    "       'Fwd.Packet.Length.Std', 'Flow.Bytes.s', 'Flow.Packets.s',\n",
    "       'Flow.IAT.Mean', 'Flow.IAT.Std', 'Flow.IAT.Max', 'Flow.IAT.Min',\n",
    "       'Fwd.IAT.Total', 'Fwd.IAT.Mean', 'Fwd.IAT.Std', 'Fwd.IAT.Max',\n",
    "       'Bwd.IAT.Total', 'Bwd.IAT.Max', 'Fwd.Header.Length', 'Fwd.Packets.s',\n",
    "       'Bwd.Packets.s', 'Min.Packet.Length', 'Max.Packet.Length',\n",
    "       'Packet.Length.Mean', 'Packet.Length.Variance', 'ACK.Flag.Count',\n",
    "       'Average.Packet.Size', 'Avg.Fwd.Segment.Size', 'Fwd.Header.Length.1',\n",
    "       'Subflow.Fwd.Bytes', 'Init_Win_bytes_forward',\n",
    "       'Init_Win_bytes_backward', 'min_seg_size_forward', 'L7Protocol']"
   ]
  },
  {
   "cell_type": "code",
   "execution_count": 26,
   "metadata": {},
   "outputs": [],
   "source": [
    "# important_features"
   ]
  },
  {
   "cell_type": "code",
   "execution_count": 30,
   "metadata": {},
   "outputs": [],
   "source": [
    "X = df[important_features]\n",
    "Y = df['ProtocolName']"
   ]
  },
  {
   "cell_type": "code",
   "execution_count": 31,
   "metadata": {},
   "outputs": [],
   "source": [
    "scaler = StandardScaler()\n",
    "X = scaler.fit_transform(X)\n",
    "X_train, X_test, y_train, y_test = train_test_split(X, Y, test_size = 0.3, random_state = 42)"
   ]
  },
  {
   "cell_type": "code",
   "execution_count": 32,
   "metadata": {},
   "outputs": [
    {
     "name": "stdout",
     "output_type": "stream",
     "text": [
      "Wall time: 43.2 s\n"
     ]
    },
    {
     "data": {
      "text/plain": [
       "KNeighborsClassifier(metric='manhattan', n_neighbors=3, weights='distance')"
      ]
     },
     "execution_count": 32,
     "metadata": {},
     "output_type": "execute_result"
    }
   ],
   "source": [
    "%%time\n",
    "neigh = KNeighborsClassifier(n_neighbors = 3, metric='manhattan', weights='distance')\n",
    "neigh.fit(X_train, y_train)"
   ]
  },
  {
   "cell_type": "code",
   "execution_count": 33,
   "metadata": {},
   "outputs": [
    {
     "name": "stdout",
     "output_type": "stream",
     "text": [
      "Wall time: 1min 15s\n"
     ]
    },
    {
     "data": {
      "text/plain": [
       "0.9664925367218651"
      ]
     },
     "execution_count": 33,
     "metadata": {},
     "output_type": "execute_result"
    }
   ],
   "source": [
    "%%time\n",
    "neigh.score(X_test, y_test)"
   ]
  },
  {
   "cell_type": "code",
   "execution_count": 34,
   "metadata": {},
   "outputs": [
    {
     "name": "stdout",
     "output_type": "stream",
     "text": [
      "Wall time: 1min 15s\n"
     ]
    }
   ],
   "source": [
    "%%time\n",
    "y_pred = neigh.predict(X_test)"
   ]
  },
  {
   "cell_type": "code",
   "execution_count": 27,
   "metadata": {},
   "outputs": [],
   "source": [
    "# print(classification_report(y_test, y_pred))\n",
    "# print(confusion_matrix(y_test, y_pred))"
   ]
  },
  {
   "cell_type": "code",
   "execution_count": null,
   "metadata": {},
   "outputs": [],
   "source": [
    "cf_matrix = confusion_matrix(y_test, y_pred)\n",
    "fig, ax = plt.subplots(figsize=(34,12)) \n",
    "sns.heatmap(cf_matrix,annot=True, ax=ax, fmt='d', annot_kws={\"size\": 12})\n",
    "plt.savefig(\"RF_cf_with_important_features.png\")"
   ]
  }
 ],
 "metadata": {
  "colab": {
   "name": "KNN.ipynb",
   "provenance": []
  },
  "kernelspec": {
   "display_name": "Python 3",
   "language": "python",
   "name": "python3"
  },
  "language_info": {
   "codemirror_mode": {
    "name": "ipython",
    "version": 3
   },
   "file_extension": ".py",
   "mimetype": "text/x-python",
   "name": "python",
   "nbconvert_exporter": "python",
   "pygments_lexer": "ipython3",
   "version": "3.7.4"
  }
 },
 "nbformat": 4,
 "nbformat_minor": 1
}
