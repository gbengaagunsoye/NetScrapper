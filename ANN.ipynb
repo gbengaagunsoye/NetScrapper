{
 "cells": [
  {
   "cell_type": "code",
   "execution_count": 103,
   "metadata": {
    "colab": {},
    "colab_type": "code",
    "id": "NmeThpLwPKg8"
   },
   "outputs": [],
   "source": [
    "import pandas as pd \n",
    "import numpy as np\n",
    "import sklearn\n",
    "from sklearn.preprocessing import LabelEncoder\n",
    "\n",
    "from tensorflow.python.keras.utils import np_utils\n",
    "from tensorflow.keras import Sequential\n",
    "from tensorflow.keras import Model\n",
    "from tensorflow.keras.layers import Input, Dense, Dropout, Activation, Flatten\n",
    "from tensorflow.keras.optimizers import Adam, RMSprop\n",
    "\n",
    "from tensorflow import keras\n",
    "# from keras.utils import np_utils\n",
    "from sklearn.model_selection import train_test_split\n",
    "from sklearn.preprocessing import StandardScaler\n",
    "from sklearn.preprocessing import MinMaxScaler\n",
    "\n",
    "from sklearn import metrics\n",
    "import glob\n",
    "from PIL import Image\n",
    "import time\n",
    "import matplotlib.pyplot as plt\n",
    "from sklearn.metrics import confusion_matrix\n",
    "from sklearn.metrics import classification_report\n",
    "from sklearn.metrics import accuracy_score\n",
    "from sklearn.metrics import recall_score\n",
    "from sklearn.metrics import precision_score\n",
    "from sklearn.metrics import precision_recall_curve, roc_curve\n",
    "\n",
    "\n",
    "from keras.wrappers.scikit_learn import KerasClassifier\n",
    "from sklearn.pipeline import Pipeline\n",
    "import joblib\n",
    "# from sklearn.externals import joblib"
   ]
  },
  {
   "cell_type": "code",
   "execution_count": 104,
   "metadata": {
    "colab": {},
    "colab_type": "code",
    "id": "ZYtfbGQOtcOt"
   },
   "outputs": [],
   "source": [
    "filepath = \"KaggleImbalanced.csv\"\n",
    "df = pd.read_csv(filepath)\n",
    "# partial_data = df[:100000]\n",
    "# df = partial_data"
   ]
  },
  {
   "cell_type": "markdown",
   "metadata": {
    "colab": {},
    "colab_type": "code",
    "id": "ZDSabNNDtcUe"
   },
   "source": [
    "feats_importance = ['Destination.IP', 'Destination.Port', 'Source.IP', 'Init_Win_bytes_forward',\n",
    " 'min_seg_size_forward', 'Fwd.Packet.Length.Max', 'Init_Win_bytes_backward', 'Flow.IAT.Max',\n",
    " 'Source.Port', 'Flow.Duration', 'Fwd.Packet.Length.Std', 'Bwd.IAT.Total',\n",
    " 'Avg.Fwd.Segment.Size', 'Fwd.Packets.s', 'Fwd.IAT.Total', 'Fwd.IAT.Max',\n",
    " 'Fwd.Packet.Length.Mean', 'Subflow.Fwd.Bytes', 'Flow.Bytes.s', 'Min.Packet.Length',\n",
    " 'Total.Length.of.Fwd.Packets', 'Bwd.IAT.Max', 'Packet.Length.Variance', 'Bwd.Packets.s',\n",
    " 'Flow.IAT.Mean', 'Fwd.Header.Length', 'act_data_pkt_fwd', 'Max.Packet.Length',\n",
    " 'Flow.Packets.s', 'Flow.IAT.Std', 'Packet.Length.Std', 'Idle.Max',\n",
    " 'Fwd.Header.Length.1', 'Bwd.Packet.Length.Mean', 'Bwd.IAT.Std', 'Fwd.Packet.Length.Min',\n",
    " 'Bwd.Packet.Length.Std', 'Avg.Bwd.Segment.Size', 'Average.Packet.Size', 'Total.Length.of.Bwd.Packets',\n",
    " 'Packet.Length.Mean', 'Fwd.IAT.Mean', 'Fwd.IAT.Std', 'Flow.IAT.Min',\n",
    " 'Bwd.IAT.Mean', 'Bwd.Packet.Length.Max', 'Subflow.Fwd.Packets', 'Total.Fwd.Packets',\n",
    " 'Total.Backward.Packets', 'Bwd.Header.Length', 'Subflow.Bwd.Bytes', 'Subflow.Bwd.Packets', \n",
    " 'Idle.Mean', 'Fwd.IAT.Min', 'Down.Up.Ratio', 'Idle.Min']"
   ]
  },
  {
   "cell_type": "code",
   "execution_count": 105,
   "metadata": {
    "colab": {},
    "colab_type": "code",
    "id": "tIuc-hQJtccS"
   },
   "outputs": [],
   "source": [
    "feats = [x for x in df.columns if x != 'ProtocolName']\n",
    "X = df[feats].astype(float)\n",
    "Y = df['ProtocolName']"
   ]
  },
  {
   "cell_type": "code",
   "execution_count": 106,
   "metadata": {},
   "outputs": [],
   "source": [
    "# Convert application names to numbers\n",
    "encoder = LabelEncoder()\n",
    "encoder.fit(Y)\n",
    "encoded_Y = encoder.transform(Y)"
   ]
  },
  {
   "cell_type": "code",
   "execution_count": 107,
   "metadata": {
    "colab": {},
    "colab_type": "code",
    "id": "m9nmIKDStcpy"
   },
   "outputs": [],
   "source": [
    "dummy_y = np_utils.to_categorical(encoded_Y)"
   ]
  },
  {
   "cell_type": "code",
   "execution_count": 108,
   "metadata": {
    "colab": {},
    "colab_type": "code",
    "id": "OWfQ03aPtcmC"
   },
   "outputs": [],
   "source": [
    "X_train, X_test, y_train, y_test = train_test_split(X, dummy_y, test_size = 0.3, random_state = 42)"
   ]
  },
  {
   "cell_type": "code",
   "execution_count": 7,
   "metadata": {
    "colab": {},
    "colab_type": "code",
    "id": "PUsuSSbPtca_"
   },
   "outputs": [],
   "source": [
    "scaler = MinMaxScaler()\n",
    "X_train = scaler.fit_transform(X_train)\n",
    "X_test = scaler.transform(X_test)"
   ]
  },
  {
   "cell_type": "code",
   "execution_count": 8,
   "metadata": {
    "colab": {},
    "colab_type": "code",
    "id": "pSU1AbIAtcXX"
   },
   "outputs": [],
   "source": [
    "import keras.backend as K\n",
    "\n",
    "def get_f1(y_true, y_pred): #taken from old keras source code\n",
    "    true_positives = K.sum(K.round(K.clip(y_true * y_pred, 0, 1)))\n",
    "    possible_positives = K.sum(K.round(K.clip(y_true, 0, 1)))\n",
    "    predicted_positives = K.sum(K.round(K.clip(y_pred, 0, 1)))\n",
    "    precision = true_positives / (predicted_positives + K.epsilon())\n",
    "    recall = true_positives / (possible_positives + K.epsilon())\n",
    "    f1_val = 2*(precision*recall)/(precision+recall+K.epsilon())\n",
    "    return f1_val"
   ]
  },
  {
   "cell_type": "code",
   "execution_count": 9,
   "metadata": {
    "colab": {},
    "colab_type": "code",
    "id": "no-zWI_2tcR-",
    "scrolled": true
   },
   "outputs": [
    {
     "name": "stdout",
     "output_type": "stream",
     "text": [
      "(78,)\n",
      "53\n"
     ]
    }
   ],
   "source": [
    "max_features = X_train.shape[1:]\n",
    "num_classes = y_train.shape[1]\n",
    "print(max_features)\n",
    "print(num_classes)"
   ]
  },
  {
   "cell_type": "code",
   "execution_count": 12,
   "metadata": {},
   "outputs": [],
   "source": [
    "# pipeline.predict(X_test)"
   ]
  },
  {
   "cell_type": "code",
   "execution_count": 14,
   "metadata": {},
   "outputs": [],
   "source": [
    "# joblib.dump(pipeline, 'ANN_model.joblib')"
   ]
  },
  {
   "cell_type": "code",
   "execution_count": 15,
   "metadata": {
    "colab": {},
    "colab_type": "code",
    "id": "V_tksBl4uAY9"
   },
   "outputs": [
    {
     "name": "stdout",
     "output_type": "stream",
     "text": [
      "Model: \"sequential\"\n",
      "_________________________________________________________________\n",
      "Layer (type)                 Output Shape              Param #   \n",
      "=================================================================\n",
      "dense (Dense)                (None, 256)               20224     \n",
      "_________________________________________________________________\n",
      "dense_1 (Dense)              (None, 128)               32896     \n",
      "_________________________________________________________________\n",
      "dense_2 (Dense)              (None, 128)               16512     \n",
      "_________________________________________________________________\n",
      "dense_3 (Dense)              (None, 64)                8256      \n",
      "_________________________________________________________________\n",
      "dense_4 (Dense)              (None, 53)                3445      \n",
      "=================================================================\n",
      "Total params: 81,333\n",
      "Trainable params: 81,333\n",
      "Non-trainable params: 0\n",
      "_________________________________________________________________\n"
     ]
    }
   ],
   "source": [
    "model = Sequential()\n",
    "model.add(Dense(256, input_shape=max_features, activation='relu'))\n",
    "model.add(Dense(128, activation='relu'))\n",
    "model.add(Dense(128, activation='relu'))\n",
    "model.add(Dense(64, activation='relu'))\n",
    "model.add(Dense(num_classes, activation='softmax'))\n",
    "\n",
    "\n",
    "model.summary()"
   ]
  },
  {
   "cell_type": "code",
   "execution_count": 17,
   "metadata": {},
   "outputs": [],
   "source": [
    "# %%time\n",
    "# # history = model.fit(X_train, y_train, validation_data=(X_test, y_test), epochs=10, batch_size=64)\n",
    "# # history = model_clf.fit(X_train, y_train, validation_data=(X_test, y_test), epochs=10, batch_size=64)\n",
    "# history = model_clf.fit(\n",
    "#                 X_train, y_train,\n",
    "#                 batch_size=64,\n",
    "#                 epochs=10,\n",
    "#                 verbose=2,\n",
    "#                 validation_data=(X_test, y_test))"
   ]
  },
  {
   "cell_type": "code",
   "execution_count": 18,
   "metadata": {
    "colab": {},
    "colab_type": "code",
    "id": "6v8Pjrb6uAe_"
   },
   "outputs": [],
   "source": [
    "model.compile(loss='categorical_crossentropy', optimizer='adam', metrics=['acc',keras.metrics.Precision(), keras.metrics.Recall(), get_f1])"
   ]
  },
  {
   "cell_type": "code",
   "execution_count": 19,
   "metadata": {
    "colab": {},
    "colab_type": "code",
    "id": "7SPv30e7uAnq"
   },
   "outputs": [
    {
     "name": "stdout",
     "output_type": "stream",
     "text": [
      "Epoch 1/10\n",
      "4600/4600 [==============================] - 15s 3ms/step - loss: 0.9204 - acc: 0.6824 - precision: 0.8270 - recall: 0.5610 - get_f1: 0.6456 - val_loss: 0.5265 - val_acc: 0.7985 - val_precision: 0.8651 - val_recall: 0.7482 - val_get_f1: 0.8018\n",
      "Epoch 2/10\n",
      "4600/4600 [==============================] - 16s 3ms/step - loss: 0.4604 - acc: 0.8326 - precision: 0.8698 - recall: 0.7946 - get_f1: 0.8300 - val_loss: 0.4570 - val_acc: 0.8034 - val_precision: 0.8389 - val_recall: 0.7835 - val_get_f1: 0.8099\n",
      "Epoch 3/10\n",
      "4600/4600 [==============================] - 15s 3ms/step - loss: 0.3701 - acc: 0.8651 - precision: 0.8891 - recall: 0.8420 - get_f1: 0.8646 - val_loss: 0.2888 - val_acc: 0.8910 - val_precision: 0.9138 - val_recall: 0.8719 - val_get_f1: 0.8921\n",
      "Epoch 4/10\n",
      "4600/4600 [==============================] - 14s 3ms/step - loss: 0.3241 - acc: 0.8810 - precision: 0.8999 - recall: 0.8633 - get_f1: 0.8810 - val_loss: 0.3079 - val_acc: 0.8830 - val_precision: 0.9003 - val_recall: 0.8729 - val_get_f1: 0.8863\n",
      "Epoch 5/10\n",
      "4600/4600 [==============================] - 14s 3ms/step - loss: 0.2834 - acc: 0.8960 - precision: 0.9107 - recall: 0.8817 - get_f1: 0.8958 - val_loss: 0.2100 - val_acc: 0.9319 - val_precision: 0.9426 - val_recall: 0.9194 - val_get_f1: 0.9308\n",
      "Epoch 6/10\n",
      "4600/4600 [==============================] - 13s 3ms/step - loss: 0.2571 - acc: 0.9061 - precision: 0.9180 - recall: 0.8947 - get_f1: 0.9061 - val_loss: 0.1913 - val_acc: 0.9396 - val_precision: 0.9460 - val_recall: 0.9282 - val_get_f1: 0.9370\n",
      "Epoch 7/10\n",
      "4600/4600 [==============================] - 15s 3ms/step - loss: 0.2322 - acc: 0.9155 - precision: 0.9253 - recall: 0.9059 - get_f1: 0.9153 - val_loss: 0.5822 - val_acc: 0.8418 - val_precision: 0.8515 - val_recall: 0.8342 - val_get_f1: 0.8426\n",
      "Epoch 8/10\n",
      "4600/4600 [==============================] - 15s 3ms/step - loss: 0.2207 - acc: 0.9197 - precision: 0.9287 - recall: 0.9115 - get_f1: 0.9199 - val_loss: 0.7658 - val_acc: 0.7779 - val_precision: 0.7891 - val_recall: 0.7685 - val_get_f1: 0.7786\n",
      "Epoch 9/10\n",
      "4600/4600 [==============================] - 15s 3ms/step - loss: 0.2058 - acc: 0.9255 - precision: 0.9331 - recall: 0.9184 - get_f1: 0.9256 - val_loss: 0.1572 - val_acc: 0.9488 - val_precision: 0.9546 - val_recall: 0.9420 - val_get_f1: 0.9482\n",
      "Epoch 10/10\n",
      "4600/4600 [==============================] - 15s 3ms/step - loss: 0.1965 - acc: 0.9299 - precision: 0.9367 - recall: 0.9235 - get_f1: 0.9299 - val_loss: 0.1322 - val_acc: 0.9554 - val_precision: 0.9608 - val_recall: 0.9514 - val_get_f1: 0.9560\n",
      "Wall time: 2min 28s\n"
     ]
    }
   ],
   "source": [
    "%%time\n",
    "history = model.fit(X_train, y_train, validation_data=(X_test, y_test), epochs=10, batch_size=64)"
   ]
  },
  {
   "cell_type": "code",
   "execution_count": 20,
   "metadata": {
    "colab": {},
    "colab_type": "code",
    "id": "OMyMWheIuAlr"
   },
   "outputs": [
    {
     "name": "stdout",
     "output_type": "stream",
     "text": [
      "3943/3943 - 6s - loss: 0.1322 - acc: 0.9554 - precision: 0.9608 - recall: 0.9514 - get_f1: 0.9560\n",
      "Wall time: 6.06 s\n"
     ]
    }
   ],
   "source": [
    "%%time\n",
    "loss, accuracy, precision, recall, f1 = model.evaluate(X_test, y_test, verbose=2)"
   ]
  },
  {
   "cell_type": "code",
   "execution_count": 21,
   "metadata": {
    "colab": {},
    "colab_type": "code",
    "id": "kJBoqFO_uAiE"
   },
   "outputs": [
    {
     "name": "stdout",
     "output_type": "stream",
     "text": [
      "Accuracy:\n",
      "0.9554343819618225\n",
      "Precsion:\n",
      "0.960788369178772\n",
      "Recall:\n",
      "0.9513519406318665\n",
      "F1:\n",
      "0.9559776782989502\n"
     ]
    }
   ],
   "source": [
    "print(\"Accuracy:\")\n",
    "print(accuracy)\n",
    "print(\"Precsion:\")\n",
    "print(precision)\n",
    "print(\"Recall:\")\n",
    "print(recall)\n",
    "print(\"F1:\")\n",
    "print(f1)"
   ]
  },
  {
   "cell_type": "code",
   "execution_count": 22,
   "metadata": {},
   "outputs": [],
   "source": [
    "import time"
   ]
  },
  {
   "cell_type": "code",
   "execution_count": 24,
   "metadata": {},
   "outputs": [
    {
     "name": "stdout",
     "output_type": "stream",
     "text": [
      "WARNING:tensorflow:From <ipython-input-24-a9e2a615fd3a>:2: Sequential.predict_classes (from tensorflow.python.keras.engine.sequential) is deprecated and will be removed after 2021-01-01.\n",
      "Instructions for updating:\n",
      "Please use instead:* `np.argmax(model.predict(x), axis=-1)`,   if your model does multi-class classification   (e.g. if it uses a `softmax` last-layer activation).* `(model.predict(x) > 0.5).astype(\"int32\")`,   if your model does binary classification   (e.g. if it uses a `sigmoid` last-layer activation).\n"
     ]
    }
   ],
   "source": [
    "tic = time.time()\n",
    "y_predict = model.predict_classes(X_test)\n",
    "toc = time.time()"
   ]
  },
  {
   "cell_type": "code",
   "execution_count": 25,
   "metadata": {},
   "outputs": [
    {
     "name": "stdout",
     "output_type": "stream",
     "text": [
      "Time consumed for prediction on test dataset is 2.633460521697998 seconds\n"
     ]
    }
   ],
   "source": [
    "print(\"Time consumed for prediction on test dataset is\",toc-tic,\"seconds\")"
   ]
  },
  {
   "cell_type": "code",
   "execution_count": 26,
   "metadata": {},
   "outputs": [
    {
     "data": {
      "text/plain": [
       "array([ 0, 30, 48, ..., 22, 13,  9], dtype=int64)"
      ]
     },
     "execution_count": 26,
     "metadata": {},
     "output_type": "execute_result"
    }
   ],
   "source": [
    "y_predict"
   ]
  },
  {
   "cell_type": "code",
   "execution_count": 27,
   "metadata": {},
   "outputs": [],
   "source": [
    "tic = time.time()\n",
    "y_predict = model.predict(X_test)\n",
    "toc = time.time()"
   ]
  },
  {
   "cell_type": "code",
   "execution_count": 29,
   "metadata": {},
   "outputs": [
    {
     "name": "stdout",
     "output_type": "stream",
     "text": [
      "Time consumed for prediction on test dataset is 2.6850149631500244 seconds\n"
     ]
    }
   ],
   "source": [
    "y_predict\n",
    "print(\"Time consumed for prediction on test dataset is\",toc-tic,\"seconds\")"
   ]
  },
  {
   "cell_type": "code",
   "execution_count": 30,
   "metadata": {},
   "outputs": [],
   "source": [
    "tic = time.time()\n",
    "y_predict = np.argmax(model.predict(X_test), axis=-1)\n",
    "toc = time.time()"
   ]
  },
  {
   "cell_type": "code",
   "execution_count": 31,
   "metadata": {},
   "outputs": [
    {
     "data": {
      "text/plain": [
       "array([ 0, 30, 48, ..., 22, 13,  9], dtype=int64)"
      ]
     },
     "execution_count": 31,
     "metadata": {},
     "output_type": "execute_result"
    }
   ],
   "source": [
    "y_predict"
   ]
  },
  {
   "cell_type": "code",
   "execution_count": 32,
   "metadata": {},
   "outputs": [
    {
     "name": "stdout",
     "output_type": "stream",
     "text": [
      "Time consumed for prediction on test dataset is 2.8718008995056152 seconds\n"
     ]
    }
   ],
   "source": [
    "print(\"Time consumed for prediction on test dataset is\",toc-tic,\"seconds\")"
   ]
  },
  {
   "cell_type": "code",
   "execution_count": 34,
   "metadata": {},
   "outputs": [
    {
     "name": "stdout",
     "output_type": "stream",
     "text": [
      "[ 0  0  0 ... 52 52 52]\n"
     ]
    }
   ],
   "source": [
    "print(encoded_Y)\n",
    "# print(dummy_y)"
   ]
  },
  {
   "cell_type": "code",
   "execution_count": 35,
   "metadata": {},
   "outputs": [
    {
     "name": "stdout",
     "output_type": "stream",
     "text": [
      "[[1. 0. 0. ... 0. 0. 0.]\n",
      " [1. 0. 0. ... 0. 0. 0.]\n",
      " [1. 0. 0. ... 0. 0. 0.]\n",
      " ...\n",
      " [0. 0. 0. ... 0. 0. 1.]\n",
      " [0. 0. 0. ... 0. 0. 1.]\n",
      " [0. 0. 0. ... 0. 0. 1.]]\n"
     ]
    }
   ],
   "source": [
    "print(dummy_y)"
   ]
  },
  {
   "cell_type": "code",
   "execution_count": 37,
   "metadata": {
    "scrolled": true
   },
   "outputs": [
    {
     "data": {
      "text/plain": [
       "array(['AMAZON', 'APPLE', 'APPLE_ICLOUD', 'APPLE_ITUNES', 'CITRIX_ONLINE',\n",
       "       'CLOUDFLARE', 'CONTENT_FLASH', 'DEEZER', 'DNS', 'DROPBOX',\n",
       "       'EASYTAXI', 'EBAY', 'EDONKEY', 'FACEBOOK', 'FTP_CONTROL',\n",
       "       'FTP_DATA', 'GMAIL', 'GOOGLE', 'GOOGLE_MAPS', 'H323', 'HTTP',\n",
       "       'HTTP_CONNECT', 'HTTP_DOWNLOAD', 'HTTP_PROXY', 'INSTAGRAM',\n",
       "       'IP_ICMP', 'MICROSOFT', 'MQTT', 'MSN', 'MS_ONE_DRIVE', 'NETFLIX',\n",
       "       'NTP', 'OFFICE_365', 'SKYPE', 'SPOTIFY', 'SSH', 'SSL',\n",
       "       'SSL_NO_CERT', 'TEAMVIEWER', 'TELEGRAM', 'TIMMEU', 'TOR', 'TWITCH',\n",
       "       'TWITTER', 'UBUNTUONE', 'UNENCRYPED_JABBER', 'UPNP', 'WAZE',\n",
       "       'WHATSAPP', 'WIKIPEDIA', 'WINDOWS_UPDATE', 'YAHOO', 'YOUTUBE'],\n",
       "      dtype=object)"
      ]
     },
     "execution_count": 37,
     "metadata": {},
     "output_type": "execute_result"
    }
   ],
   "source": [
    "df['ProtocolName'].unique()"
   ]
  },
  {
   "cell_type": "code",
   "execution_count": 59,
   "metadata": {},
   "outputs": [
    {
     "data": {
      "text/html": [
       "<div>\n",
       "<style scoped>\n",
       "    .dataframe tbody tr th:only-of-type {\n",
       "        vertical-align: middle;\n",
       "    }\n",
       "\n",
       "    .dataframe tbody tr th {\n",
       "        vertical-align: top;\n",
       "    }\n",
       "\n",
       "    .dataframe thead th {\n",
       "        text-align: right;\n",
       "    }\n",
       "</style>\n",
       "<table border=\"1\" class=\"dataframe\">\n",
       "  <thead>\n",
       "    <tr style=\"text-align: right;\">\n",
       "      <th></th>\n",
       "      <th>Flow.Duration</th>\n",
       "      <th>Total.Fwd.Packets</th>\n",
       "      <th>Total.Backward.Packets</th>\n",
       "      <th>Total.Length.of.Fwd.Packets</th>\n",
       "      <th>Total.Length.of.Bwd.Packets</th>\n",
       "      <th>Fwd.Packet.Length.Max</th>\n",
       "      <th>Fwd.Packet.Length.Min</th>\n",
       "      <th>Fwd.Packet.Length.Mean</th>\n",
       "      <th>Fwd.Packet.Length.Std</th>\n",
       "      <th>Bwd.Packet.Length.Max</th>\n",
       "      <th>...</th>\n",
       "      <th>Active.Mean</th>\n",
       "      <th>Active.Std</th>\n",
       "      <th>Active.Max</th>\n",
       "      <th>Active.Min</th>\n",
       "      <th>Idle.Mean</th>\n",
       "      <th>Idle.Std</th>\n",
       "      <th>Idle.Max</th>\n",
       "      <th>Idle.Min</th>\n",
       "      <th>L7Protocol</th>\n",
       "      <th>ProtocolName</th>\n",
       "    </tr>\n",
       "  </thead>\n",
       "  <tbody>\n",
       "    <tr>\n",
       "      <td>320253</td>\n",
       "      <td>2.021337e+06</td>\n",
       "      <td>9.000000</td>\n",
       "      <td>5.000000</td>\n",
       "      <td>795.000000</td>\n",
       "      <td>625.000000</td>\n",
       "      <td>487.000000</td>\n",
       "      <td>0.0</td>\n",
       "      <td>88.333333</td>\n",
       "      <td>166.426410</td>\n",
       "      <td>482.000000</td>\n",
       "      <td>...</td>\n",
       "      <td>0.0</td>\n",
       "      <td>0.0</td>\n",
       "      <td>0.0</td>\n",
       "      <td>0.0</td>\n",
       "      <td>0.0</td>\n",
       "      <td>0.0</td>\n",
       "      <td>0.0</td>\n",
       "      <td>0.0</td>\n",
       "      <td>64.0</td>\n",
       "      <td>SSL_NO_CERT</td>\n",
       "    </tr>\n",
       "    <tr>\n",
       "      <td>320254</td>\n",
       "      <td>6.555200e+04</td>\n",
       "      <td>14.000000</td>\n",
       "      <td>8.000000</td>\n",
       "      <td>373.000000</td>\n",
       "      <td>5252.000000</td>\n",
       "      <td>223.000000</td>\n",
       "      <td>0.0</td>\n",
       "      <td>26.642857</td>\n",
       "      <td>69.221614</td>\n",
       "      <td>1436.000000</td>\n",
       "      <td>...</td>\n",
       "      <td>0.0</td>\n",
       "      <td>0.0</td>\n",
       "      <td>0.0</td>\n",
       "      <td>0.0</td>\n",
       "      <td>0.0</td>\n",
       "      <td>0.0</td>\n",
       "      <td>0.0</td>\n",
       "      <td>0.0</td>\n",
       "      <td>64.0</td>\n",
       "      <td>SSL_NO_CERT</td>\n",
       "    </tr>\n",
       "    <tr>\n",
       "      <td>320255</td>\n",
       "      <td>1.070320e+05</td>\n",
       "      <td>14.000000</td>\n",
       "      <td>12.000000</td>\n",
       "      <td>373.000000</td>\n",
       "      <td>10784.000000</td>\n",
       "      <td>223.000000</td>\n",
       "      <td>0.0</td>\n",
       "      <td>26.642857</td>\n",
       "      <td>69.221614</td>\n",
       "      <td>1436.000000</td>\n",
       "      <td>...</td>\n",
       "      <td>0.0</td>\n",
       "      <td>0.0</td>\n",
       "      <td>0.0</td>\n",
       "      <td>0.0</td>\n",
       "      <td>0.0</td>\n",
       "      <td>0.0</td>\n",
       "      <td>0.0</td>\n",
       "      <td>0.0</td>\n",
       "      <td>64.0</td>\n",
       "      <td>SSL_NO_CERT</td>\n",
       "    </tr>\n",
       "    <tr>\n",
       "      <td>320256</td>\n",
       "      <td>7.535100e+04</td>\n",
       "      <td>14.000000</td>\n",
       "      <td>11.000000</td>\n",
       "      <td>373.000000</td>\n",
       "      <td>10784.000000</td>\n",
       "      <td>223.000000</td>\n",
       "      <td>0.0</td>\n",
       "      <td>26.642857</td>\n",
       "      <td>69.221614</td>\n",
       "      <td>2660.000000</td>\n",
       "      <td>...</td>\n",
       "      <td>0.0</td>\n",
       "      <td>0.0</td>\n",
       "      <td>0.0</td>\n",
       "      <td>0.0</td>\n",
       "      <td>0.0</td>\n",
       "      <td>0.0</td>\n",
       "      <td>0.0</td>\n",
       "      <td>0.0</td>\n",
       "      <td>64.0</td>\n",
       "      <td>SSL_NO_CERT</td>\n",
       "    </tr>\n",
       "    <tr>\n",
       "      <td>320257</td>\n",
       "      <td>6.586200e+04</td>\n",
       "      <td>15.000000</td>\n",
       "      <td>13.000000</td>\n",
       "      <td>373.000000</td>\n",
       "      <td>11396.000000</td>\n",
       "      <td>223.000000</td>\n",
       "      <td>0.0</td>\n",
       "      <td>24.866667</td>\n",
       "      <td>67.057403</td>\n",
       "      <td>1436.000000</td>\n",
       "      <td>...</td>\n",
       "      <td>0.0</td>\n",
       "      <td>0.0</td>\n",
       "      <td>0.0</td>\n",
       "      <td>0.0</td>\n",
       "      <td>0.0</td>\n",
       "      <td>0.0</td>\n",
       "      <td>0.0</td>\n",
       "      <td>0.0</td>\n",
       "      <td>64.0</td>\n",
       "      <td>SSL_NO_CERT</td>\n",
       "    </tr>\n",
       "    <tr>\n",
       "      <td>...</td>\n",
       "      <td>...</td>\n",
       "      <td>...</td>\n",
       "      <td>...</td>\n",
       "      <td>...</td>\n",
       "      <td>...</td>\n",
       "      <td>...</td>\n",
       "      <td>...</td>\n",
       "      <td>...</td>\n",
       "      <td>...</td>\n",
       "      <td>...</td>\n",
       "      <td>...</td>\n",
       "      <td>...</td>\n",
       "      <td>...</td>\n",
       "      <td>...</td>\n",
       "      <td>...</td>\n",
       "      <td>...</td>\n",
       "      <td>...</td>\n",
       "      <td>...</td>\n",
       "      <td>...</td>\n",
       "      <td>...</td>\n",
       "      <td>...</td>\n",
       "    </tr>\n",
       "    <tr>\n",
       "      <td>330248</td>\n",
       "      <td>2.193829e+05</td>\n",
       "      <td>15.000000</td>\n",
       "      <td>8.880160</td>\n",
       "      <td>373.000000</td>\n",
       "      <td>8951.377933</td>\n",
       "      <td>223.000000</td>\n",
       "      <td>0.0</td>\n",
       "      <td>24.866667</td>\n",
       "      <td>67.057403</td>\n",
       "      <td>2081.874881</td>\n",
       "      <td>...</td>\n",
       "      <td>0.0</td>\n",
       "      <td>0.0</td>\n",
       "      <td>0.0</td>\n",
       "      <td>0.0</td>\n",
       "      <td>0.0</td>\n",
       "      <td>0.0</td>\n",
       "      <td>0.0</td>\n",
       "      <td>0.0</td>\n",
       "      <td>64.0</td>\n",
       "      <td>SSL_NO_CERT</td>\n",
       "    </tr>\n",
       "    <tr>\n",
       "      <td>330249</td>\n",
       "      <td>6.895371e+04</td>\n",
       "      <td>17.000000</td>\n",
       "      <td>12.488750</td>\n",
       "      <td>373.000000</td>\n",
       "      <td>12097.844727</td>\n",
       "      <td>223.000000</td>\n",
       "      <td>0.0</td>\n",
       "      <td>21.941176</td>\n",
       "      <td>63.267755</td>\n",
       "      <td>1999.613769</td>\n",
       "      <td>...</td>\n",
       "      <td>0.0</td>\n",
       "      <td>0.0</td>\n",
       "      <td>0.0</td>\n",
       "      <td>0.0</td>\n",
       "      <td>0.0</td>\n",
       "      <td>0.0</td>\n",
       "      <td>0.0</td>\n",
       "      <td>0.0</td>\n",
       "      <td>64.0</td>\n",
       "      <td>SSL_NO_CERT</td>\n",
       "    </tr>\n",
       "    <tr>\n",
       "      <td>330250</td>\n",
       "      <td>8.335465e+04</td>\n",
       "      <td>10.117512</td>\n",
       "      <td>17.455647</td>\n",
       "      <td>8252.660035</td>\n",
       "      <td>9265.963866</td>\n",
       "      <td>3626.473172</td>\n",
       "      <td>0.0</td>\n",
       "      <td>1149.557745</td>\n",
       "      <td>1192.634198</td>\n",
       "      <td>1296.723223</td>\n",
       "      <td>...</td>\n",
       "      <td>0.0</td>\n",
       "      <td>0.0</td>\n",
       "      <td>0.0</td>\n",
       "      <td>0.0</td>\n",
       "      <td>0.0</td>\n",
       "      <td>0.0</td>\n",
       "      <td>0.0</td>\n",
       "      <td>0.0</td>\n",
       "      <td>64.0</td>\n",
       "      <td>SSL_NO_CERT</td>\n",
       "    </tr>\n",
       "    <tr>\n",
       "      <td>330251</td>\n",
       "      <td>2.440998e+05</td>\n",
       "      <td>14.449681</td>\n",
       "      <td>8.724841</td>\n",
       "      <td>373.000000</td>\n",
       "      <td>9170.904370</td>\n",
       "      <td>223.000000</td>\n",
       "      <td>0.0</td>\n",
       "      <td>25.919328</td>\n",
       "      <td>68.308630</td>\n",
       "      <td>2723.475067</td>\n",
       "      <td>...</td>\n",
       "      <td>0.0</td>\n",
       "      <td>0.0</td>\n",
       "      <td>0.0</td>\n",
       "      <td>0.0</td>\n",
       "      <td>0.0</td>\n",
       "      <td>0.0</td>\n",
       "      <td>0.0</td>\n",
       "      <td>0.0</td>\n",
       "      <td>64.0</td>\n",
       "      <td>SSL_NO_CERT</td>\n",
       "    </tr>\n",
       "    <tr>\n",
       "      <td>330252</td>\n",
       "      <td>2.313273e+05</td>\n",
       "      <td>15.000000</td>\n",
       "      <td>7.172239</td>\n",
       "      <td>373.000000</td>\n",
       "      <td>7589.072940</td>\n",
       "      <td>223.000000</td>\n",
       "      <td>0.0</td>\n",
       "      <td>24.866667</td>\n",
       "      <td>67.057403</td>\n",
       "      <td>3646.296086</td>\n",
       "      <td>...</td>\n",
       "      <td>0.0</td>\n",
       "      <td>0.0</td>\n",
       "      <td>0.0</td>\n",
       "      <td>0.0</td>\n",
       "      <td>0.0</td>\n",
       "      <td>0.0</td>\n",
       "      <td>0.0</td>\n",
       "      <td>0.0</td>\n",
       "      <td>64.0</td>\n",
       "      <td>SSL_NO_CERT</td>\n",
       "    </tr>\n",
       "  </tbody>\n",
       "</table>\n",
       "<p>10000 rows × 79 columns</p>\n",
       "</div>"
      ],
      "text/plain": [
       "        Flow.Duration  Total.Fwd.Packets  Total.Backward.Packets  \\\n",
       "320253   2.021337e+06           9.000000                5.000000   \n",
       "320254   6.555200e+04          14.000000                8.000000   \n",
       "320255   1.070320e+05          14.000000               12.000000   \n",
       "320256   7.535100e+04          14.000000               11.000000   \n",
       "320257   6.586200e+04          15.000000               13.000000   \n",
       "...               ...                ...                     ...   \n",
       "330248   2.193829e+05          15.000000                8.880160   \n",
       "330249   6.895371e+04          17.000000               12.488750   \n",
       "330250   8.335465e+04          10.117512               17.455647   \n",
       "330251   2.440998e+05          14.449681                8.724841   \n",
       "330252   2.313273e+05          15.000000                7.172239   \n",
       "\n",
       "        Total.Length.of.Fwd.Packets  Total.Length.of.Bwd.Packets  \\\n",
       "320253                   795.000000                   625.000000   \n",
       "320254                   373.000000                  5252.000000   \n",
       "320255                   373.000000                 10784.000000   \n",
       "320256                   373.000000                 10784.000000   \n",
       "320257                   373.000000                 11396.000000   \n",
       "...                             ...                          ...   \n",
       "330248                   373.000000                  8951.377933   \n",
       "330249                   373.000000                 12097.844727   \n",
       "330250                  8252.660035                  9265.963866   \n",
       "330251                   373.000000                  9170.904370   \n",
       "330252                   373.000000                  7589.072940   \n",
       "\n",
       "        Fwd.Packet.Length.Max  Fwd.Packet.Length.Min  Fwd.Packet.Length.Mean  \\\n",
       "320253             487.000000                    0.0               88.333333   \n",
       "320254             223.000000                    0.0               26.642857   \n",
       "320255             223.000000                    0.0               26.642857   \n",
       "320256             223.000000                    0.0               26.642857   \n",
       "320257             223.000000                    0.0               24.866667   \n",
       "...                       ...                    ...                     ...   \n",
       "330248             223.000000                    0.0               24.866667   \n",
       "330249             223.000000                    0.0               21.941176   \n",
       "330250            3626.473172                    0.0             1149.557745   \n",
       "330251             223.000000                    0.0               25.919328   \n",
       "330252             223.000000                    0.0               24.866667   \n",
       "\n",
       "        Fwd.Packet.Length.Std  Bwd.Packet.Length.Max  ...  Active.Mean  \\\n",
       "320253             166.426410             482.000000  ...          0.0   \n",
       "320254              69.221614            1436.000000  ...          0.0   \n",
       "320255              69.221614            1436.000000  ...          0.0   \n",
       "320256              69.221614            2660.000000  ...          0.0   \n",
       "320257              67.057403            1436.000000  ...          0.0   \n",
       "...                       ...                    ...  ...          ...   \n",
       "330248              67.057403            2081.874881  ...          0.0   \n",
       "330249              63.267755            1999.613769  ...          0.0   \n",
       "330250            1192.634198            1296.723223  ...          0.0   \n",
       "330251              68.308630            2723.475067  ...          0.0   \n",
       "330252              67.057403            3646.296086  ...          0.0   \n",
       "\n",
       "        Active.Std  Active.Max  Active.Min  Idle.Mean  Idle.Std  Idle.Max  \\\n",
       "320253         0.0         0.0         0.0        0.0       0.0       0.0   \n",
       "320254         0.0         0.0         0.0        0.0       0.0       0.0   \n",
       "320255         0.0         0.0         0.0        0.0       0.0       0.0   \n",
       "320256         0.0         0.0         0.0        0.0       0.0       0.0   \n",
       "320257         0.0         0.0         0.0        0.0       0.0       0.0   \n",
       "...            ...         ...         ...        ...       ...       ...   \n",
       "330248         0.0         0.0         0.0        0.0       0.0       0.0   \n",
       "330249         0.0         0.0         0.0        0.0       0.0       0.0   \n",
       "330250         0.0         0.0         0.0        0.0       0.0       0.0   \n",
       "330251         0.0         0.0         0.0        0.0       0.0       0.0   \n",
       "330252         0.0         0.0         0.0        0.0       0.0       0.0   \n",
       "\n",
       "        Idle.Min  L7Protocol  ProtocolName  \n",
       "320253       0.0        64.0   SSL_NO_CERT  \n",
       "320254       0.0        64.0   SSL_NO_CERT  \n",
       "320255       0.0        64.0   SSL_NO_CERT  \n",
       "320256       0.0        64.0   SSL_NO_CERT  \n",
       "320257       0.0        64.0   SSL_NO_CERT  \n",
       "...          ...         ...           ...  \n",
       "330248       0.0        64.0   SSL_NO_CERT  \n",
       "330249       0.0        64.0   SSL_NO_CERT  \n",
       "330250       0.0        64.0   SSL_NO_CERT  \n",
       "330251       0.0        64.0   SSL_NO_CERT  \n",
       "330252       0.0        64.0   SSL_NO_CERT  \n",
       "\n",
       "[10000 rows x 79 columns]"
      ]
     },
     "execution_count": 59,
     "metadata": {},
     "output_type": "execute_result"
    }
   ],
   "source": [
    "myDataFrame = df[df['ProtocolName']=='SSL_NO_CERT']\n",
    "myDataFrame"
   ]
  },
  {
   "cell_type": "code",
   "execution_count": null,
   "metadata": {},
   "outputs": [],
   "source": []
  },
  {
   "cell_type": "code",
   "execution_count": 99,
   "metadata": {},
   "outputs": [],
   "source": [
    "model_output = {}\n",
    "for label in df['ProtocolName'].unique():\n",
    "    model_output.setdefault(label, [])\n",
    "    myDataFrame = df[df['ProtocolName']==label]\n",
    "    samples = len(myDataFrame)\n",
    "    myFeats = [x for x in myDataFrame.columns if x != 'ProtocolName']\n",
    "    X_features = myDataFrame[myFeats].astype(float)\n",
    "    X_features = scaler.transform(X_features)\n",
    "    myLabel = myDataFrame['ProtocolName']\n",
    "    tic = time.time()\n",
    "    my_predict = np.argmax(model.predict(X_features), axis=-1)\n",
    "    toc = time.time()\n",
    "    confidence_score = np.max(model.predict(X_features))\n",
    "    predicted_class = encoder.inverse_transform(my_predict)\n",
    "    time_taken = toc-tic\n",
    "    my_acc = accuracy_score(myDataFrame['ProtocolName'], predicted_class) \n",
    "    model_output[label].append(predicted_class)\n",
    "    model_output[label].append(time_taken)\n",
    "    model_output[label].append(samples)\n",
    "    model_output[label].append(my_acc)\n",
    "    model_output[label].append(confidence_score)\n",
    "    \n"
   ]
  },
  {
   "cell_type": "code",
   "execution_count": 100,
   "metadata": {},
   "outputs": [
    {
     "name": "stdout",
     "output_type": "stream",
     "text": [
      "0.9999628\n"
     ]
    }
   ],
   "source": [
    "# print(model_output['GOOGLE_MAPS'])\n",
    "print(np.max(model_output['APPLE'][4]))"
   ]
  },
  {
   "cell_type": "code",
   "execution_count": 101,
   "metadata": {},
   "outputs": [],
   "source": [
    "with  open(\"Evaluation.txt\", 'w+') as f:\n",
    "    for label in model_output.keys():\n",
    "        f.write(label +\"\\t\" + str(round(model_output[label][1], 2)) + \"\\t\" + str(model_output[label][2]) + \"\\t\" + str(round(model_output[label][3]*100, 2)) + \"\\t\" + str(round(model_output[label][4]*100, 2)) + \"\\n\")\n",
    "f.close()"
   ]
  },
  {
   "cell_type": "code",
   "execution_count": null,
   "metadata": {},
   "outputs": [],
   "source": [
    "feats = [x for x in df.columns if x != 'ProtocolName']\n",
    "X = df[feats].astype(float)"
   ]
  },
  {
   "cell_type": "code",
   "execution_count": 46,
   "metadata": {},
   "outputs": [
    {
     "data": {
      "text/plain": [
       "array(['AMAZON', 'GOOGLE_MAPS', 'APPLE', ..., 'HTTP_DOWNLOAD', 'FACEBOOK',\n",
       "       'DROPBOX'], dtype=object)"
      ]
     },
     "execution_count": 46,
     "metadata": {},
     "output_type": "execute_result"
    }
   ],
   "source": [
    "classes = encoder.inverse_transform(y_predict)\n",
    "classes"
   ]
  },
  {
   "cell_type": "code",
   "execution_count": 47,
   "metadata": {
    "scrolled": true
   },
   "outputs": [
    {
     "data": {
      "text/plain": [
       "array(['AMAZON', 'NETFLIX', 'WHATSAPP', ..., 'HTTP_DOWNLOAD', 'FACEBOOK',\n",
       "       'DROPBOX'], dtype=object)"
      ]
     },
     "execution_count": 47,
     "metadata": {},
     "output_type": "execute_result"
    }
   ],
   "source": [
    "y_test_Data = np.argmax(y_test, axis=-1)\n",
    "y_test_Data = encoder.inverse_transform(y_test_Data)\n",
    "y_test_Data"
   ]
  },
  {
   "cell_type": "code",
   "execution_count": 48,
   "metadata": {},
   "outputs": [
    {
     "name": "stderr",
     "output_type": "stream",
     "text": [
      "C:\\ProgramData\\Anaconda3\\lib\\site-packages\\sklearn\\metrics\\_classification.py:1221: UndefinedMetricWarning: Precision and F-score are ill-defined and being set to 0.0 in labels with no predicted samples. Use `zero_division` parameter to control this behavior.\n",
      "  _warn_prf(average, modifier, msg_start, len(result))\n"
     ]
    },
    {
     "name": "stdout",
     "output_type": "stream",
     "text": [
      "                   precision    recall  f1-score   support\n",
      "\n",
      "           AMAZON       0.98      0.91      0.94      2958\n",
      "            APPLE       0.86      0.98      0.92      2977\n",
      "     APPLE_ICLOUD       0.93      0.84      0.88      2950\n",
      "     APPLE_ITUNES       0.98      0.91      0.95      3062\n",
      "    CITRIX_ONLINE       0.83      0.91      0.87        11\n",
      "       CLOUDFLARE       0.86      0.85      0.85      3046\n",
      "    CONTENT_FLASH       1.00      1.00      1.00      2950\n",
      "           DEEZER       1.00      0.11      0.20        18\n",
      "              DNS       1.00      1.00      1.00      2990\n",
      "          DROPBOX       0.90      0.92      0.91      3028\n",
      "         EASYTAXI       1.00      0.99      0.99      3083\n",
      "             EBAY       0.90      0.96      0.93      3025\n",
      "          EDONKEY       1.00      0.74      0.85        27\n",
      "         FACEBOOK       0.99      0.96      0.98      2932\n",
      "      FTP_CONTROL       0.00      0.00      0.00         9\n",
      "         FTP_DATA       0.96      0.99      0.98      3008\n",
      "            GMAIL       0.96      0.94      0.95      2966\n",
      "           GOOGLE       0.99      0.99      0.99      2948\n",
      "      GOOGLE_MAPS       0.94      0.91      0.92      3014\n",
      "             H323       1.00      0.29      0.44         7\n",
      "             HTTP       1.00      1.00      1.00      3010\n",
      "     HTTP_CONNECT       0.99      1.00      0.99      3064\n",
      "    HTTP_DOWNLOAD       0.99      1.00      1.00      3010\n",
      "       HTTP_PROXY       0.99      0.99      0.99      2958\n",
      "        INSTAGRAM       0.92      0.94      0.93      3164\n",
      "          IP_ICMP       1.00      1.00      1.00      3010\n",
      "        MICROSOFT       0.93      0.94      0.94      2928\n",
      "             MQTT       0.99      0.74      0.84      3042\n",
      "              MSN       1.00      0.99      1.00      3016\n",
      "     MS_ONE_DRIVE       0.77      0.86      0.81      2979\n",
      "          NETFLIX       0.93      0.94      0.94      2967\n",
      "              NTP       1.00      1.00      1.00      2977\n",
      "       OFFICE_365       0.85      0.97      0.90      2879\n",
      "            SKYPE       0.99      0.97      0.98      2913\n",
      "          SPOTIFY       0.99      1.00      0.99      3025\n",
      "              SSH       1.00      1.00      1.00      2990\n",
      "              SSL       1.00      1.00      1.00      2990\n",
      "      SSL_NO_CERT       1.00      0.99      0.99      2988\n",
      "       TEAMVIEWER       1.00      0.98      0.99      3039\n",
      "         TELEGRAM       1.00      0.18      0.31        11\n",
      "           TIMMEU       0.00      0.00      0.00        11\n",
      "              TOR       0.99      0.99      0.99      3002\n",
      "           TWITCH       0.62      0.71      0.67         7\n",
      "          TWITTER       0.90      0.97      0.93      2994\n",
      "        UBUNTUONE       1.00      1.00      1.00      2937\n",
      "UNENCRYPED_JABBER       1.00      0.17      0.29        12\n",
      "             UPNP       0.89      0.67      0.76        12\n",
      "             WAZE       0.86      0.26      0.40        23\n",
      "         WHATSAPP       0.87      0.86      0.86      3038\n",
      "        WIKIPEDIA       0.98      0.95      0.96      3087\n",
      "   WINDOWS_UPDATE       0.99      0.99      0.99      3080\n",
      "            YAHOO       0.99      1.00      1.00      2931\n",
      "          YOUTUBE       0.96      0.99      0.97      3048\n",
      "\n",
      "         accuracy                           0.96    126151\n",
      "        macro avg       0.91      0.84      0.85    126151\n",
      "     weighted avg       0.96      0.96      0.96    126151\n",
      "\n",
      "[[2694    0    0 ...    0    0    0]\n",
      " [   0 2924    5 ...    0    0    0]\n",
      " [   0  119 2481 ...    0    0    0]\n",
      " ...\n",
      " [   0    0    0 ... 3063    0    0]\n",
      " [   0    0    0 ...    0 2927    0]\n",
      " [   0    0    0 ...    0    0 3030]]\n"
     ]
    }
   ],
   "source": [
    "print(classification_report(y_test_Data, classes))\n",
    "print(confusion_matrix(y_test_Data, classes))"
   ]
  },
  {
   "cell_type": "code",
   "execution_count": 113,
   "metadata": {},
   "outputs": [
    {
     "name": "stdout",
     "output_type": "stream",
     "text": [
      "dict_keys(['loss', 'acc', 'precision_15', 'recall_15', 'get_f1', 'val_loss', 'val_acc', 'val_precision_15', 'val_recall_15', 'val_get_f1'])\n"
     ]
    }
   ],
   "source": [
    "print(history.history.keys())"
   ]
  },
  {
   "cell_type": "code",
   "execution_count": 33,
   "metadata": {
    "colab": {},
    "colab_type": "code",
    "id": "AbRA3Wv7uAcE"
   },
   "outputs": [
    {
     "data": {
      "image/png": "[encoded data removed]",
      "text/plain": [
       "<Figure size 432x288 with 1 Axes>"
      ]
     },
     "metadata": {
      "needs_background": "light"
     },
     "output_type": "display_data"
    }
   ],
   "source": [
    "plt.plot(history.history['acc'])\n",
    "plt.plot(history.history['val_acc'])\n",
    "plt.title('Model accuracy')\n",
    "plt.ylabel('Accuracy')\n",
    "plt.xlabel('Epochs')\n",
    "plt.legend(['Training', 'Testing'], loc='upper left')\n",
    "plt.savefig(\"Accuracy_img.png\")"
   ]
  },
  {
   "cell_type": "code",
   "execution_count": 34,
   "metadata": {
    "colab": {},
    "colab_type": "code",
    "id": "N-13qL6YuV38"
   },
   "outputs": [
    {
     "data": {
      "image/png": "[encoded data removed]",
      "text/plain": [
       "<Figure size 432x288 with 1 Axes>"
      ]
     },
     "metadata": {
      "needs_background": "light"
     },
     "output_type": "display_data"
    }
   ],
   "source": [
    "plt.plot(history.history['loss']) \n",
    "plt.plot(history.history['val_loss']) \n",
    "plt.title('Model loss') \n",
    "plt.ylabel('Loss') \n",
    "plt.xlabel('Epochs') \n",
    "plt.legend(['Training', 'Testing'], loc='upper left') \n",
    "plt.savefig(\"Loss_img.png\")"
   ]
  },
  {
   "cell_type": "code",
   "execution_count": 116,
   "metadata": {},
   "outputs": [],
   "source": [
    "from keras.models import model_from_json"
   ]
  },
  {
   "cell_type": "code",
   "execution_count": 117,
   "metadata": {},
   "outputs": [
    {
     "name": "stdout",
     "output_type": "stream",
     "text": [
      "Saved model to disk\n"
     ]
    }
   ],
   "source": [
    "# serialize model to JSON\n",
    "model_json = model.to_json()\n",
    "with open(\"ANN_model.json\", \"w\") as json_file:\n",
    "    json_file.write(model_json)\n",
    "# serialize weights to HDF5\n",
    "model.save_weights(\"ANN_model.h5\")\n",
    "print(\"Saved model to disk\")"
   ]
  },
  {
   "cell_type": "code",
   "execution_count": 119,
   "metadata": {},
   "outputs": [],
   "source": [
    "model.save(\"ANN_Model2.h5\")"
   ]
  },
  {
   "cell_type": "code",
   "execution_count": 120,
   "metadata": {},
   "outputs": [],
   "source": [
    "#Use keras.models.load_model(filepath)"
   ]
  },
  {
   "cell_type": "code",
   "execution_count": 121,
   "metadata": {},
   "outputs": [],
   "source": [
    "def create_model(optimizer='adam',\n",
    "                 kernel_initializer='glorot_uniform', \n",
    "                 dropout=0.2):\n",
    "    model = Sequential()\n",
    "    model.add(Dense(64, input_shape=(78,), activation='relu',kernel_initializer=kernel_initializer))\n",
    "    model.add(Dropout(dropout))\n",
    "    model.add(Dense(53,activation='sigmoid',kernel_initializer=kernel_initializer))\n",
    "    model.summary()\n",
    "    model.compile(loss='categorical_crossentropy',optimizer=optimizer, metrics=['accuracy'])\n",
    "\n",
    "    return model\n",
    "\n",
    "# wrap the model using the function you created\n",
    "clf = KerasClassifier(build_fn=create_model,verbose=2)\n",
    "\n",
    "# just create the pipeline\n",
    "# pipeline = Pipeline([\n",
    "#     ('clf',clf)\n",
    "# ])\n",
    "\n",
    "# pipeline.fit(X_train, y_train)"
   ]
  },
  {
   "cell_type": "code",
   "execution_count": 126,
   "metadata": {},
   "outputs": [
    {
     "name": "stdout",
     "output_type": "stream",
     "text": [
      "Model: \"sequential_26\"\n",
      "_________________________________________________________________\n",
      "Layer (type)                 Output Shape              Param #   \n",
      "=================================================================\n",
      "dense_103 (Dense)            (None, 64)                5056      \n",
      "_________________________________________________________________\n",
      "dropout_9 (Dropout)          (None, 64)                0         \n",
      "_________________________________________________________________\n",
      "dense_104 (Dense)            (None, 53)                3445      \n",
      "=================================================================\n",
      "Total params: 8,501\n",
      "Trainable params: 8,501\n",
      "Non-trainable params: 0\n",
      "_________________________________________________________________\n",
      "Epoch 1/10\n",
      "4600/4600 - 7s - loss: 2.1452 - accuracy: 0.3868 - val_loss: 1.5102 - val_accuracy: 0.5502\n",
      "Epoch 2/10\n",
      "4600/4600 - 8s - loss: 1.4506 - accuracy: 0.5381 - val_loss: 1.1989 - val_accuracy: 0.6260\n",
      "Epoch 3/10\n",
      "4600/4600 - 8s - loss: 1.2452 - accuracy: 0.5924 - val_loss: 1.0508 - val_accuracy: 0.6710\n",
      "Epoch 4/10\n",
      "4600/4600 - 7s - loss: 1.1248 - accuracy: 0.6266 - val_loss: 0.9573 - val_accuracy: 0.6924\n",
      "Epoch 5/10\n",
      "4600/4600 - 7s - loss: 1.0372 - accuracy: 0.6536 - val_loss: 0.8749 - val_accuracy: 0.7252\n",
      "Epoch 6/10\n",
      "4600/4600 - 7s - loss: 0.9737 - accuracy: 0.6737 - val_loss: 0.8228 - val_accuracy: 0.7428\n",
      "Epoch 7/10\n",
      "4600/4600 - 7s - loss: 0.9209 - accuracy: 0.6910 - val_loss: 0.7756 - val_accuracy: 0.7589\n",
      "Epoch 8/10\n",
      "4600/4600 - 7s - loss: 0.8760 - accuracy: 0.7060 - val_loss: 0.7352 - val_accuracy: 0.7739\n",
      "Epoch 9/10\n",
      "4600/4600 - 7s - loss: 0.8376 - accuracy: 0.7189 - val_loss: 0.6994 - val_accuracy: 0.7828\n",
      "Epoch 10/10\n",
      "4600/4600 - 8s - loss: 0.8025 - accuracy: 0.7298 - val_loss: 0.6718 - val_accuracy: 0.7900\n",
      "Wall time: 1min 14s\n"
     ]
    }
   ],
   "source": [
    "%%time\n",
    "history = clf.fit(X_train, y_train, validation_data=(X_test, y_test), epochs=10, batch_size=64)"
   ]
  },
  {
   "cell_type": "code",
   "execution_count": 40,
   "metadata": {},
   "outputs": [
    {
     "data": {
      "text/plain": [
       "array([[2.89250007e-05, 0.00000000e+00, 7.43516536e-06, ...,\n",
       "        0.00000000e+00, 0.00000000e+00, 8.00904977e-01],\n",
       "       [3.92045889e-01, 8.58251227e-06, 3.71758268e-05, ...,\n",
       "        3.74992280e-01, 3.74992280e-01, 5.97285068e-01],\n",
       "       [3.58743342e-03, 3.43300491e-05, 5.20461575e-05, ...,\n",
       "        0.00000000e+00, 0.00000000e+00, 6.38009050e-01],\n",
       "       ...,\n",
       "       [1.96609302e-06, 0.00000000e+00, 1.48703307e-05, ...,\n",
       "        0.00000000e+00, 0.00000000e+00, 2.66968326e-01],\n",
       "       [1.35675003e-04, 3.43300491e-05, 4.46109921e-05, ...,\n",
       "        0.00000000e+00, 0.00000000e+00, 5.33936652e-01],\n",
       "       [1.06241669e-03, 0.00000000e+00, 7.43516536e-06, ...,\n",
       "        0.00000000e+00, 0.00000000e+00, 5.42986425e-01]])"
      ]
     },
     "execution_count": 40,
     "metadata": {},
     "output_type": "execute_result"
    }
   ],
   "source": [
    "X_test"
   ]
  },
  {
   "cell_type": "code",
   "execution_count": 47,
   "metadata": {},
   "outputs": [],
   "source": [
    "np.savetxt(\"X_test.csv\", X_test, delimiter=\",\")\n",
    "np.savetxt(\"y_test.csv\", y_test, delimiter=\",\")"
   ]
  },
  {
   "cell_type": "code",
   "execution_count": 49,
   "metadata": {},
   "outputs": [],
   "source": [
    "predict2 = model.predict_classes(X_test)"
   ]
  },
  {
   "cell_type": "code",
   "execution_count": 50,
   "metadata": {},
   "outputs": [
    {
     "data": {
      "text/plain": [
       "array([ 0, 30,  2, ..., 22, 13,  9], dtype=int64)"
      ]
     },
     "execution_count": 50,
     "metadata": {},
     "output_type": "execute_result"
    }
   ],
   "source": [
    "predict2"
   ]
  },
  {
   "cell_type": "code",
   "execution_count": 45,
   "metadata": {},
   "outputs": [],
   "source": [
    "# confusion_matrix_train1 = confusion_matrix(y_test[:,1], predict)\n",
    "# confusion_matrix_test1 = confusion_matrix(y_test[:,1], predict)\n",
    "# print(classification_report(y_test[:,1], predict))"
   ]
  },
  {
   "cell_type": "code",
   "execution_count": 44,
   "metadata": {},
   "outputs": [
    {
     "data": {
      "text/plain": [
       "array(['AMAZON', 'NETFLIX', 'APPLE_ICLOUD', ..., 'HTTP_DOWNLOAD',\n",
       "       'FACEBOOK', 'DROPBOX'], dtype=object)"
      ]
     },
     "execution_count": 44,
     "metadata": {},
     "output_type": "execute_result"
    }
   ],
   "source": [
    "# y_pred = np.argmax(Y_pred, axis=1)\n",
    "# enc.inverse_transform(encoded)\n",
    "# enc = LabelEncoder().fit(c)\n",
    "# >>> encoded = enc.transform(c)\n",
    "# >>> encoded\n",
    "\n",
    "# encoder = LabelEncoder()\n",
    "# encoder.fit(Y)\n",
    "# encoded_Y = encoder.transform(Y)\n",
    "# encoder.inverse_transform(encoded_Y)\n",
    "encoder.inverse_transform(predict2)"
   ]
  },
  {
   "cell_type": "code",
   "execution_count": 51,
   "metadata": {},
   "outputs": [
    {
     "data": {
      "text/plain": [
       "array([[1., 0., 0., ..., 0., 0., 0.],\n",
       "       [0., 0., 0., ..., 0., 0., 0.],\n",
       "       [0., 0., 0., ..., 0., 0., 0.],\n",
       "       ...,\n",
       "       [0., 0., 0., ..., 0., 0., 0.],\n",
       "       [0., 0., 0., ..., 0., 0., 0.],\n",
       "       [0., 0., 0., ..., 0., 0., 0.]], dtype=float32)"
      ]
     },
     "execution_count": 51,
     "metadata": {},
     "output_type": "execute_result"
    }
   ],
   "source": [
    "y_test"
   ]
  },
  {
   "cell_type": "code",
   "execution_count": 53,
   "metadata": {},
   "outputs": [
    {
     "data": {
      "text/plain": [
       "array(['AMAZON', 'AMAZON', 'AMAZON', ..., 'YOUTUBE', 'YOUTUBE', 'YOUTUBE'],\n",
       "      dtype=object)"
      ]
     },
     "execution_count": 53,
     "metadata": {},
     "output_type": "execute_result"
    }
   ],
   "source": [
    "encoder.inverse_transform(encoded_Y)"
   ]
  },
  {
   "cell_type": "code",
   "execution_count": 56,
   "metadata": {},
   "outputs": [],
   "source": [
    "y_train = scaler.fit_transform(y_train)\n",
    "y_test = scaler.transform(y_test)"
   ]
  },
  {
   "cell_type": "code",
   "execution_count": 58,
   "metadata": {},
   "outputs": [
    {
     "data": {
      "text/plain": [
       "array([[1., 0., 0., ..., 0., 0., 0.],\n",
       "       [0., 0., 0., ..., 0., 0., 0.],\n",
       "       [0., 0., 0., ..., 0., 0., 0.],\n",
       "       ...,\n",
       "       [0., 0., 0., ..., 0., 0., 0.],\n",
       "       [0., 0., 0., ..., 0., 0., 0.],\n",
       "       [0., 0., 0., ..., 0., 0., 0.]], dtype=float32)"
      ]
     },
     "execution_count": 58,
     "metadata": {},
     "output_type": "execute_result"
    }
   ],
   "source": [
    "y_test"
   ]
  },
  {
   "cell_type": "code",
   "execution_count": null,
   "metadata": {},
   "outputs": [],
   "source": []
  }
 ],
 "metadata": {
  "colab": {
   "collapsed_sections": [],
   "name": "ANN.ipynb",
   "provenance": []
  },
  "kernelspec": {
   "display_name": "Python 3",
   "language": "python",
   "name": "python3"
  },
  "language_info": {
   "codemirror_mode": {
    "name": "ipython",
    "version": 3
   },
   "file_extension": ".py",
   "mimetype": "text/x-python",
   "name": "python",
   "nbconvert_exporter": "python",
   "pygments_lexer": "ipython3",
   "version": "3.7.4"
  }
 },
 "nbformat": 4,
 "nbformat_minor": 1
}
